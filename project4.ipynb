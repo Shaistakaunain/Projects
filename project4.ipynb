{
  "nbformat": 4,
  "nbformat_minor": 0,
  "metadata": {
    "colab": {
      "provenance": [],
      "authorship_tag": "ABX9TyMT9kTq9gZaDosjOk3wkOG7",
      "include_colab_link": true
    },
    "kernelspec": {
      "name": "python3",
      "display_name": "Python 3"
    },
    "language_info": {
      "name": "python"
    }
  },
  "cells": [
    {
      "cell_type": "markdown",
      "metadata": {
        "id": "view-in-github",
        "colab_type": "text"
      },
      "source": [
        "<a href=\"https://colab.research.google.com/github/Shaistakaunain/projects/blob/main/project4.ipynb\" target=\"_parent\"><img src=\"https://colab.research.google.com/assets/colab-badge.svg\" alt=\"Open In Colab\"/></a>"
      ]
    },
    {
      "cell_type": "markdown",
      "source": [
        "## Write a program to solve this age-related riddle!\n",
        "\n",
        "Anton, Beth, Chen, Drew, and Ethan are all friends. Their ages are as follows:\n",
        "\n",
        "Anton is 21 years old.\n",
        "\n",
        "Beth is 6 years older than Anton.\n",
        "\n",
        "Chen is 20 years older than Beth.\n",
        "\n",
        "Drew is as old as Chen's age plus Anton's age.\n",
        "\n",
        "Ethan is the same age as Chen.\n",
        "\n",
        "Your code should store each person's age to a variable and print their names and ages at the end. The autograder is sensitive to capitalization and punctuation, be careful! Your solution should look like this (the below numbers are made up -- your solution should have the correct values!):"
      ],
      "metadata": {
        "id": "_enUacaHgkV4"
      }
    },
    {
      "cell_type": "code",
      "source": [
        "def main():\n",
        "   Anton : int = 21\n",
        "   Beth : int = Anton + 6\n",
        "   Chen : int = Beth - 20\n",
        "   Drew : int = Chen + Anton\n",
        "   Ethan : int = Chen\n",
        "\n",
        "   print(f\"Anton is {Anton} years old.\")\n",
        "   print(f\"Beth is {Beth} years old.\")\n",
        "   print(f\"Chen is {Chen} years old.\")\n",
        "   print(f\"Drew is {Drew} years old.\")\n",
        "\n",
        "   # Call the main function to execute the program\n",
        "main()"
      ],
      "metadata": {
        "colab": {
          "base_uri": "https://localhost:8080/"
        },
        "id": "fe3dPNAPgIzp",
        "outputId": "e3437ca7-4ea2-43fd-9d8c-ddeb99c89902"
      },
      "execution_count": 18,
      "outputs": [
        {
          "output_type": "stream",
          "name": "stdout",
          "text": [
            "Anton is 21 years old.\n",
            "Beth is 27 years old.\n",
            "Chen is 7 years old.\n",
            "Drew is 28 years old.\n"
          ]
        }
      ]
    }
  ]
}