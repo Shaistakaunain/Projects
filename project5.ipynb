{
  "nbformat": 4,
  "nbformat_minor": 0,
  "metadata": {
    "colab": {
      "provenance": [],
      "authorship_tag": "ABX9TyNF16LK3nX3Ofxw8HFnqH83",
      "include_colab_link": true
    },
    "kernelspec": {
      "name": "python3",
      "display_name": "Python 3"
    },
    "language_info": {
      "name": "python"
    }
  },
  "cells": [
    {
      "cell_type": "markdown",
      "metadata": {
        "id": "view-in-github",
        "colab_type": "text"
      },
      "source": [
        "<a href=\"https://colab.research.google.com/github/Shaistakaunain/projects/blob/main/project5.ipynb\" target=\"_parent\"><img src=\"https://colab.research.google.com/assets/colab-badge.svg\" alt=\"Open In Colab\"/></a>"
      ]
    },
    {
      "cell_type": "markdown",
      "source": [
        "**Perimeter of Triangle**\n",
        "\n",
        "# Prompt the user to enter the lengths of each side of a triangle and then calculate and print the perimeter of the triangle (the sum of all of the side lengths).\n",
        "\n",
        "Here's a sample run of the program (user input is in bold italics):\n",
        "\n",
        "What is the length of side 1? 3\n",
        "\n",
        "What is the length of side 2? 4\n",
        "\n",
        "What is the length of side 3? 5.5\n",
        "\n",
        "The perimeter of the triangle is 12.5"
      ],
      "metadata": {
        "id": "7ZV0vTw_pMoG"
      }
    },
    {
      "cell_type": "code",
      "source": [
        "def main():\n",
        "    # Get the 3 side lengths of the triangle\n",
        "    side1: float = float(input(\"What is the length of side 1? \"))\n",
        "    side2: float = float(input(\"What is the length of side 2? \"))\n",
        "    side3: float = float(input(\"What is the length of side 3? \"))\n",
        "\n",
        "    # Calculate the perimeter (sum of the sides)\n",
        "    perimeter = side1 + side2 + side3\n",
        "\n",
        "    # Print out the perimeter of the triangle\n",
        "    print(\"The perimeter of the triangle is \" + str(perimeter))\n",
        "\n",
        "# Call the main function to execute the program\n",
        "main()\n"
      ],
      "metadata": {
        "colab": {
          "base_uri": "https://localhost:8080/"
        },
        "id": "BnUAhG_ho9qp",
        "outputId": "5b03697d-bc00-48a4-9486-41e2b756efa0"
      },
      "execution_count": 19,
      "outputs": [
        {
          "output_type": "stream",
          "name": "stdout",
          "text": [
            "What is the length of side 1? 2\n",
            "What is the length of side 2? 2\n",
            "What is the length of side 3? 2\n",
            "The perimeter of the triangle is 6.0\n"
          ]
        }
      ]
    }
  ]
}