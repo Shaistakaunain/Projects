{
  "nbformat": 4,
  "nbformat_minor": 0,
  "metadata": {
    "colab": {
      "provenance": [],
      "authorship_tag": "ABX9TyMY2neLR//rCJvBmpGU7vWZ",
      "include_colab_link": true
    },
    "kernelspec": {
      "name": "python3",
      "display_name": "Python 3"
    },
    "language_info": {
      "name": "python"
    }
  },
  "cells": [
    {
      "cell_type": "markdown",
      "metadata": {
        "id": "view-in-github",
        "colab_type": "text"
      },
      "source": [
        "<a href=\"https://colab.research.google.com/github/Shaistakaunain/projects/blob/main/project1.ipynb\" target=\"_parent\"><img src=\"https://colab.research.google.com/assets/colab-badge.svg\" alt=\"Open In Colab\"/></a>"
      ]
    },
    {
      "cell_type": "markdown",
      "source": [
        "# Add Two Numbers\n",
        "\n",
        "# Write a Python program that takes two integer inputs from the user and calculates their sum. The program should perform the following tasks:\n",
        "\n",
        "1. Prompt the user to enter the first number.\n",
        "\n",
        "2. Read the input and convert it to an integer.\n",
        "\n",
        "3. Prompt the user to enter the second number.\n",
        "\n",
        "4. Read the input and convert it to an integer.\n",
        "\n",
        "5. Calculate the sum of the two numbers.\n",
        "\n",
        "6. Print the total sum with an appropriate message."
      ],
      "metadata": {
        "id": "5YLxRIWzTfQB"
      }
    },
    {
      "cell_type": "code",
      "source": [
        "def add(a, b):\n",
        "    return a + b\n",
        "\n",
        "# Prompt the user to enter the first number.\n",
        "Num_1 = int(input(\"Enter the first number: \"))\n",
        "\n",
        "# Prompt the user to enter the second number.\n",
        "Num_2 = int(input(\"Enter the second number: \"))\n",
        "\n",
        "# Calculate the sum of the two numbers.\n",
        "result = add(Num_1, Num_2)\n",
        "\n",
        "# Print the total sum with an appropriate message.\n",
        "print(f\"Your result after adding: {result}\")\n"
      ],
      "metadata": {
        "colab": {
          "base_uri": "https://localhost:8080/"
        },
        "id": "3R62Ma9STbC6",
        "outputId": "a0c52ab5-ed23-4edf-a2fe-6c51d5db302b"
      },
      "execution_count": 14,
      "outputs": [
        {
          "output_type": "stream",
          "name": "stdout",
          "text": [
            "Enter the first number: 50\n",
            "Enter the second number: 60\n",
            "Your result after adding: 110\n"
          ]
        }
      ]
    }
  ]
}