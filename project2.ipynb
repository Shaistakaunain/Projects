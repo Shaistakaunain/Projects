{
  "nbformat": 4,
  "nbformat_minor": 0,
  "metadata": {
    "colab": {
      "provenance": [],
      "authorship_tag": "ABX9TyPigkZIhD0A8H9BnQllWVZX",
      "include_colab_link": true
    },
    "kernelspec": {
      "name": "python3",
      "display_name": "Python 3"
    },
    "language_info": {
      "name": "python"
    }
  },
  "cells": [
    {
      "cell_type": "markdown",
      "metadata": {
        "id": "view-in-github",
        "colab_type": "text"
      },
      "source": [
        "<a href=\"https://colab.research.google.com/github/Shaistakaunain/projects/blob/main/project2.ipynb\" target=\"_parent\"><img src=\"https://colab.research.google.com/assets/colab-badge.svg\" alt=\"Open In Colab\"/></a>"
      ]
    },
    {
      "cell_type": "markdown",
      "source": [
        "**# Agreement Bot**\n",
        "\n",
        "# Write a program which asks the user what their favorite animal is, and then always responds with \"My favorite animal is also ___!\" (the blank should be filled in with the user-inputted animal, of course)."
      ],
      "metadata": {
        "id": "oCgWqJ9CdoKm"
      }
    },
    {
      "cell_type": "code",
      "source": [
        "# Ask the user for their favorite animal\n",
        "favorite_animal = input(\"What's your favorite animal? \")\n",
        "\n",
        "# Respond with the user's input\n",
        "print(f\"My favorite animal is also {favorite_animal}!\")\n"
      ],
      "metadata": {
        "colab": {
          "base_uri": "https://localhost:8080/"
        },
        "id": "oUY3rOund1M_",
        "outputId": "02860f24-fc0e-4b78-d37f-a7d249d97fa4"
      },
      "execution_count": 15,
      "outputs": [
        {
          "output_type": "stream",
          "name": "stdout",
          "text": [
            "What's your favorite animal? cat\n",
            "My favorite animal is also cat!\n"
          ]
        }
      ]
    }
  ]
}